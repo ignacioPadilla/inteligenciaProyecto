{
  "cells": [
    {
      "cell_type": "markdown",
      "metadata": {
        "id": "view-in-github",
        "colab_type": "text"
      },
      "source": [
        "<a href=\"https://colab.research.google.com/github/ignacioPadilla/inteligenciaProyecto/blob/main/COPIA_de_Proyecto_Inteligencia.ipynb\" target=\"_parent\"><img src=\"https://colab.research.google.com/assets/colab-badge.svg\" alt=\"Open In Colab\"/></a>"
      ]
    },
    {
      "cell_type": "code",
      "execution_count": 37,
      "metadata": {
        "id": "MK38f8YAJ20P"
      },
      "outputs": [],
      "source": [
        "import pathlib\n",
        "import time\n",
        "\n",
        "import torch\n",
        "from torch import nn\n",
        "import torchvision\n",
        "\n",
        "from matplotlib import pyplot as plt\n",
        "import numpy as np\n",
        "from sklearn.metrics import confusion_matrix, ConfusionMatrixDisplay"
      ]
    },
    {
      "cell_type": "markdown",
      "source": [
        "# **Datasets a utilizar**"
      ],
      "metadata": {
        "id": "E1-R3ovPxU-R"
      }
    },
    {
      "cell_type": "code",
      "execution_count": 38,
      "metadata": {
        "colab": {
          "base_uri": "https://localhost:8080/"
        },
        "id": "_YKNyAfgKTPa",
        "outputId": "841777fe-b749-4fe7-b91f-6d62f631edc7"
      },
      "outputs": [
        {
          "output_type": "stream",
          "name": "stdout",
          "text": [
            "Drive already mounted at /content/drive; to attempt to forcibly remount, call drive.mount(\"/content/drive\", force_remount=True).\n"
          ]
        }
      ],
      "source": [
        "from google.colab import drive\n",
        "drive.mount('/content/drive')\n",
        "path = '/content/drive/MyDrive/Localización de husos sigma en el EEG del sueño'"
      ]
    },
    {
      "cell_type": "code",
      "execution_count": 39,
      "metadata": {
        "id": "Nz25Dv0uLYEg"
      },
      "outputs": [],
      "source": [
        "#TRAIN\n",
        "#signals son las señales completas, cada señal se compone de 800 puntos(4463 señales).\n",
        "dir_train_signals = path + \"/train_signals.npy\"\n",
        "train_signals = torch.from_numpy(np.load(pathlib.Path(dir_train_signals))) #Tiene una señal muestreada con valores reales como Tensor\n",
        "\n",
        "\n",
        "\n",
        "#marks son las respuestas, en cual punto comienza y termina el huso sigma.\n",
        "dir_train_marks = path + \"/train_marks.npy\"\n",
        "train_marks = np.load(pathlib.Path(dir_train_marks))  \n",
        "\n",
        "#TEST\n",
        "dir_test_signals = path + \"/test_signals.npy\"\n",
        "test_signals = torch.from_numpy(np.load(pathlib.Path(dir_test_signals))) #Tiene una señal muestreada con valores reales como Tensor \n",
        "\n",
        "dir_test_marks = path + \"/test_marks.npy\"\n",
        "test_marks = np.load(pathlib.Path(dir_test_marks))\n",
        "\n",
        "#VALIDATION\n",
        "dir_val_signals = path + \"/val_signals.npy\"\n",
        "val_signals = torch.from_numpy(np.load(pathlib.Path(dir_val_signals))) #Tiene una señal muestreada con valores reales como Tensor\n",
        "\n",
        "dir_val_marks = path + \"/val_marks.npy\"\n",
        "val_marks = np.load(pathlib.Path(dir_val_marks))\n"
      ]
    },
    {
      "cell_type": "markdown",
      "source": [
        "## ***Exploración de datos***"
      ],
      "metadata": {
        "id": "ycIhEA3M73up"
      }
    },
    {
      "cell_type": "markdown",
      "source": [
        "## Datos tipo \"signals\""
      ],
      "metadata": {
        "id": "2vi3kkmt9Nzc"
      }
    },
    {
      "cell_type": "code",
      "source": [
        "print(\"Las dimensiones de train signal son:\")\n",
        "print(train_signals.shape)\n",
        "print(\"Lo que quiere decir que tenemos 4463 señales con 800 muestras\")\n",
        "print()\n",
        "print(\"Las dimensiones de test signal son: \")\n",
        "print(test_signals.shape)\n",
        "print(\"Lo que quiere decir que tenemos 2256 señales con 800 muestras\")\n",
        "print()\n",
        "print(\"Las dimensiones de val signal son:\")\n",
        "print(val_signals.shape)\n",
        "print(\"Lo que quiere decir que tenemos 1808 señales con 800 muestras\")"
      ],
      "metadata": {
        "colab": {
          "base_uri": "https://localhost:8080/"
        },
        "id": "ETjWHciUyQ-Z",
        "outputId": "e425aba1-b6ac-4031-b121-5c3404bca133"
      },
      "execution_count": null,
      "outputs": [
        {
          "output_type": "stream",
          "name": "stdout",
          "text": [
            "Las dimensiones de train signal son:\n",
            "torch.Size([4463, 800])\n",
            "Lo que quiere decir que tenemos 4463 señales con 800 muestras\n",
            "\n",
            "Las dimensiones de test signal son: \n",
            "torch.Size([2256, 800])\n",
            "Lo que quiere decir que tenemos 2256 señales con 800 muestras\n",
            "\n",
            "Las dimensiones de val signal son:\n",
            "torch.Size([1808, 800])\n",
            "Lo que quiere decir que tenemos 1808 señales con 800 muestras\n"
          ]
        }
      ]
    },
    {
      "cell_type": "markdown",
      "source": [
        "## Gráfico de una señal tipo signal"
      ],
      "metadata": {
        "id": "drkzwN1qAAXA"
      }
    },
    {
      "cell_type": "code",
      "source": [
        "muestras=np.linspace(0, 800, num=800)\n",
        "# Crear la figura y los ejes\n",
        "fig, ax = plt.subplots()\n",
        "plt.xlabel('Muestras')\n",
        "plt.ylabel('Valor de señal')\n",
        "plt.title('Señal de 4 segundos muestreada a 200 Hz')\n",
        "# Dibujar puntos\n",
        "ax.scatter(muestras, train_signals[40])\n",
        "# Mostrar el gráfico\n",
        "plt.show()"
      ],
      "metadata": {
        "colab": {
          "base_uri": "https://localhost:8080/",
          "height": 295
        },
        "id": "3sHue6dozp63",
        "outputId": "a4f105d3-584c-4e85-c277-594e61a8b2f2"
      },
      "execution_count": null,
      "outputs": [
        {
          "output_type": "display_data",
          "data": {
            "text/plain": [
              "<Figure size 432x288 with 1 Axes>"
            ],
            "image/png": "[encoded data removed]"
          },
          "metadata": {
            "needs_background": "light"
          }
        }
      ]
    },
    {
      "cell_type": "markdown",
      "source": [
        "El segmento anterior tiene una duración de 4 segundos y fue muestreado a una frecuencia de 200Hz, es por ello que se tienen 800 muestras"
      ],
      "metadata": {
        "id": "d_9QWGv7CojF"
      }
    },
    {
      "cell_type": "markdown",
      "source": [
        "## Datos tipo marks"
      ],
      "metadata": {
        "id": "S-sx3iimC-ac"
      }
    },
    {
      "cell_type": "code",
      "source": [
        "print(\"Las dimensiones de train marks son:\")\n",
        "print(train_marks.shape)\n",
        "print(\"Lo que quiere decir que tenemos 4463 señales con su inicio y fin del huso del sueño\")\n",
        "print()\n",
        "print(\"Las dimensiones de test marks son: \")\n",
        "print(test_marks.shape)\n",
        "print(\"Lo que quiere decir que tenemos 2256 señales con su inicio y fin del huso del sueño\")\n",
        "print()\n",
        "print(\"Las dimensiones de val marks son:\")\n",
        "print(val_marks.shape)\n",
        "print(\"Lo que quiere decir que tenemos 1808 señales con su inicio y fin del huso del sueño\")"
      ],
      "metadata": {
        "colab": {
          "base_uri": "https://localhost:8080/"
        },
        "id": "1ALs8NxE0EI-",
        "outputId": "33943f92-fecf-460a-ffc7-a2cf14ed2d0d"
      },
      "execution_count": null,
      "outputs": [
        {
          "output_type": "stream",
          "name": "stdout",
          "text": [
            "Las dimensiones de train marks son:\n",
            "(4463, 2)\n",
            "Lo que quiere decir que tenemos 4463 señales con su inicio y fin del huso del sueño\n",
            "\n",
            "Las dimensiones de test marks son: \n",
            "(2256, 2)\n",
            "Lo que quiere decir que tenemos 2256 señales con su inicio y fin del huso del sueño\n",
            "\n",
            "Las dimensiones de val marks son:\n",
            "(1808, 2)\n",
            "Lo que quiere decir que tenemos 1808 señales con su inicio y fin del huso del sueño\n"
          ]
        }
      ]
    },
    {
      "cell_type": "markdown",
      "source": [
        "A continuación con los datos de marks podemos obtener las CLASES para la señal tipo signal, ya que se sabe en que posicion empieza y termina el huso, es por ello que se define la función \"crea_y\" para poder obtener las clases"
      ],
      "metadata": {
        "id": "lJphrBh208vE"
      }
    },
    {
      "cell_type": "code",
      "execution_count": 40,
      "metadata": {
        "id": "03y6A6Gk6CwM"
      },
      "outputs": [],
      "source": [
        "def crea_y(mark):\n",
        "  muestras,dim = mark.shape\n",
        "  salida=np.zeros(800)\n",
        "  for i in range(muestras):\n",
        "    vector = np.zeros(800)\n",
        "    inicio = mark[i][0]\n",
        "    final = mark[i][1]\n",
        "    while inicio <= final:\n",
        "      vector[inicio] = 1\n",
        "      inicio = inicio+1\n",
        "    salida = np.vstack([salida,vector])\n",
        "  salida = np.delete(salida, 0, axis=0)\n",
        "  return salida"
      ]
    },
    {
      "cell_type": "code",
      "source": [
        "y_train = crea_y(train_marks)\n",
        "y_test = crea_y(test_marks)\n",
        "y_val = crea_y(val_marks)"
      ],
      "metadata": {
        "id": "jxlPozd21dn6"
      },
      "execution_count": 41,
      "outputs": []
    },
    {
      "cell_type": "markdown",
      "source": [
        "## Gráfico de husos del sueño para una señal\n",
        "\n",
        "\n",
        "*   0=No hay huso de sueño\n",
        "*   1=Hay huso de sueño\n",
        "\n",
        "\n",
        "\n",
        "\n",
        "\n"
      ],
      "metadata": {
        "id": "IzNaguY716Sn"
      }
    },
    {
      "cell_type": "code",
      "source": [
        "### sanity check\n",
        "plt.plot(y_train[40,:])\n",
        "plt.xlabel('Muestras')\n",
        "plt.ylabel('Husos de sueño para la señal')\n",
        "plt.title('Ubicación de Husos de sueño')\n",
        "plt.show()"
      ],
      "metadata": {
        "colab": {
          "base_uri": "https://localhost:8080/",
          "height": 295
        },
        "id": "3NwPwSe22L_b",
        "outputId": "67c4c199-46c0-4033-9744-df1952d23ff9"
      },
      "execution_count": null,
      "outputs": [
        {
          "output_type": "display_data",
          "data": {
            "text/plain": [
              "<Figure size 432x288 with 1 Axes>"
            ],
            "image/png": "[encoded data removed]"
          },
          "metadata": {
            "needs_background": "light"
          }
        }
      ]
    },
    {
      "cell_type": "markdown",
      "source": [
        "# **Implementación de red neuronal**"
      ],
      "metadata": {
        "id": "ty2aHY_n3P10"
      }
    },
    {
      "cell_type": "code",
      "source": [
        "#Clases para husos con 0 y 1\n",
        "y_train = crea_y(train_marks) \n",
        "y_test = crea_y(test_marks)\n",
        "y_val = crea_y(val_marks)\n",
        "\n",
        "#De numpy a tensor\n",
        "y_train = torch.tensor(y_train, dtype=torch.float64)\n",
        "y_val = torch.tensor(y_val, dtype=torch.float64)\n",
        "y_test = torch.tensor(y_test, dtype=torch.float64)\n",
        "\n",
        "#Redimensionar \"y\"\n",
        "\n",
        "#y_train=torch.reshape(y_train,(len(y_train),1,1,800))\n",
        "#y_val=torch.reshape(y_val,(len(y_val),1,1,800))\n",
        "#y_test=torch.reshape(y_test,(len(y_test),1,1,800))\n",
        "\n",
        "#Se cambian dimensiones a las señales tipo signals para que tengan un canal y poder ocupar red convolucional\n",
        "X_train = torch.reshape(train_signals,(4463,1,800)) \n",
        "X_val = torch.reshape(val_signals,(len(val_signals),1,800))\n",
        "X_test = torch.reshape(test_signals,(len(test_signals),1,800))"
      ],
      "metadata": {
        "id": "OOETdaTEpY8Q"
      },
      "execution_count": 42,
      "outputs": []
    },
    {
      "cell_type": "code",
      "source": [
        "print(\"Dimensiones de y_train:\")\n",
        "y_train.shape"
      ],
      "metadata": {
        "colab": {
          "base_uri": "https://localhost:8080/"
        },
        "id": "kIifs2qN2xtH",
        "outputId": "f82a1b8c-2473-40b8-cb4a-4974aec222dd"
      },
      "execution_count": null,
      "outputs": [
        {
          "output_type": "stream",
          "name": "stdout",
          "text": [
            "Dimensiones de y_train:\n"
          ]
        },
        {
          "output_type": "execute_result",
          "data": {
            "text/plain": [
              "torch.Size([4463, 800])"
            ]
          },
          "metadata": {},
          "execution_count": 7
        }
      ]
    },
    {
      "cell_type": "code",
      "source": [
        "print(\"Dimensiones de X_train:\")\n",
        "print(X_train.shape)\n",
        "print(\"Tenemos 4463 datos de imagenes de 1x800 \")\n",
        "print()\n",
        "print(\"Dimensiones de X_val:\")\n",
        "print(X_val.shape)\n",
        "print(\"Tenemos 1808 datos de imagenes de 1x800 \")\n",
        "print()\n",
        "print(\"Dimensiones de X_test:\")\n",
        "print(X_test.shape)\n",
        "print(\"Tenemos 2256 datos de imagenes de 1x800 \")"
      ],
      "metadata": {
        "colab": {
          "base_uri": "https://localhost:8080/"
        },
        "id": "HM8ti4mf_ID7",
        "outputId": "211e731a-3b42-40cf-a5e5-3a7b8c314012"
      },
      "execution_count": null,
      "outputs": [
        {
          "output_type": "stream",
          "name": "stdout",
          "text": [
            "Dimensiones de X_train:\n",
            "torch.Size([4463, 1, 800])\n",
            "Tenemos 4463 datos de imagenes de 1x800 \n",
            "\n",
            "Dimensiones de X_val:\n",
            "torch.Size([1808, 1, 800])\n",
            "Tenemos 1808 datos de imagenes de 1x800 \n",
            "\n",
            "Dimensiones de X_test:\n",
            "torch.Size([2256, 1, 800])\n",
            "Tenemos 2256 datos de imagenes de 1x800 \n"
          ]
        }
      ]
    },
    {
      "cell_type": "code",
      "source": [
        "#DATASETS\n",
        "train_dataset = torch.utils.data.TensorDataset(X_train, y_train) \n",
        "val_dataset = torch.utils.data.TensorDataset(X_val,y_val)\n",
        "test_dataset =torch.utils.data.TensorDataset(X_test,y_test)"
      ],
      "metadata": {
        "id": "IADwIYuHrtlL"
      },
      "execution_count": 43,
      "outputs": []
    },
    {
      "cell_type": "markdown",
      "source": [
        "A continuación se prueba si los dataset cumplen la función de guardas las clases para las señales"
      ],
      "metadata": {
        "id": "3zwo8VNdzH-t"
      }
    },
    {
      "cell_type": "code",
      "source": [
        "example_image, example_class = train_dataset[40]\n",
        "muestras=np.linspace(0, 800, num=800)\n",
        "# Crear la figura y los ejes\n",
        "fig, ax = plt.subplots()\n",
        "plt.xlabel('Muestras')\n",
        "plt.ylabel('Valor de señal')\n",
        "plt.title(f\"Ejemplo de clase {example_class}\")\n",
        "# Dibujar puntos\n",
        "ax.scatter(muestras, example_image)\n",
        "# Mostrar el gráfico\n",
        "plt.show()"
      ],
      "metadata": {
        "colab": {
          "base_uri": "https://localhost:8080/",
          "height": 955
        },
        "id": "OUTVkWQarNzX",
        "outputId": "26c3464d-e2ad-4d7e-fc70-f8e0cb3b6041"
      },
      "execution_count": null,
      "outputs": [
        {
          "output_type": "display_data",
          "data": {
            "text/plain": [
              "<Figure size 432x288 with 1 Axes>"
            ],
            "image/png": "[encoded data removed]"
          },
          "metadata": {
            "needs_background": "light"
          }
        }
      ]
    },
    {
      "cell_type": "markdown",
      "source": [
        "Cambio en las dimensiones al aplicar red convolucional a los datos"
      ],
      "metadata": {
        "id": "-CqE0-ei60T0"
      }
    },
    {
      "cell_type": "code",
      "source": [
        "example_image, example_class = train_dataset[40]\n",
        "conv_layer = nn.Conv1d(in_channels=1, out_channels=10, kernel_size=1)\n",
        "output_image= conv_layer(example_image)\n",
        "print(f\"Input image shape: {example_image.shape}\")\n",
        "print(f\"Output image shape: {output_image.shape}\")"
      ],
      "metadata": {
        "colab": {
          "base_uri": "https://localhost:8080/"
        },
        "id": "v0VmRTJPrNvB",
        "outputId": "2326b50d-26e8-4fe3-c8c6-7acb52852453"
      },
      "execution_count": null,
      "outputs": [
        {
          "output_type": "stream",
          "name": "stdout",
          "text": [
            "Input image shape: torch.Size([1, 800])\n",
            "Output image shape: torch.Size([10, 800])\n"
          ]
        }
      ]
    },
    {
      "cell_type": "markdown",
      "source": [
        " ***RED NEURONAL ***"
      ],
      "metadata": {
        "id": "Y1nR-mR3zAMV"
      }
    },
    {
      "cell_type": "code",
      "source": [
        "class CNNModel(nn.Module):\n",
        "    def __init__(\n",
        "        self,\n",
        "        dropout_p,\n",
        "    ):\n",
        "        super().__init__()\n",
        "        \n",
        "        self.conv_blocks = nn.Sequential(\n",
        "            # Bloque 1\n",
        "\n",
        "            nn.Conv1d(1, 16, kernel_size=1), \n",
        "            nn.ReLU(),\n",
        "\n",
        "            # Bloque 2\n",
        "\n",
        "            nn.Conv1d(16, 32, kernel_size=1),\n",
        "            nn.ReLU(),\n",
        "          \n",
        "\n",
        "            # Bloque 3\n",
        "\n",
        "            nn.Conv1d(32, 1, kernel_size=1),\n",
        "            nn.ReLU()\n",
        "        )\n",
        "\n",
        "        #aqui pasa a vectores \n",
        "        self.mlp = nn.Sequential(\n",
        "            nn.Flatten(),\n",
        "            # El primer valor de esta capa lineal cambia si se utilizan distintos bloques\n",
        "            nn.Linear(800, 256),\n",
        "            nn.ReLU(),\n",
        "            nn.Dropout(p=dropout_p),\n",
        "            nn.Linear(256, 800),\n",
        "            nn.Sigmoid()\n",
        "        )\n",
        "\n",
        "        self.net = nn.Sequential(\n",
        "            self.conv_blocks,\n",
        "            self.mlp,\n",
        "        )\n",
        "\n",
        "    def forward(self, x):\n",
        "        return self.net(x)"
      ],
      "metadata": {
        "id": "SbVZhNng0MEi"
      },
      "execution_count": 44,
      "outputs": []
    },
    {
      "cell_type": "code",
      "source": [
        "input=torch.from_numpy(np.array([70000,1,2,0.4,-1]))\n",
        "m = nn.ReLU()\n",
        "#input = torch.randn(2)\n",
        "output = m(input)\n",
        "print(output)\n",
        "n=nn.Sigmoid()\n",
        "output1=n(input)\n",
        "print(output1)\n"
      ],
      "metadata": {
        "colab": {
          "base_uri": "https://localhost:8080/"
        },
        "id": "4j0-n96haCGX",
        "outputId": "761b3d25-0649-4dda-d28b-6ddcfb8fafea"
      },
      "execution_count": null,
      "outputs": [
        {
          "output_type": "stream",
          "name": "stdout",
          "text": [
            "tensor([7.0000e+04, 1.0000e+00, 2.0000e+00, 4.0000e-01, 0.0000e+00],\n",
            "       dtype=torch.float64)\n",
            "tensor([1.0000, 0.7311, 0.8808, 0.5987, 0.2689], dtype=torch.float64)\n"
          ]
        }
      ]
    },
    {
      "cell_type": "code",
      "source": [
        "def show_curves(curves):\n",
        "    fig, ax = plt.subplots(1, 2, figsize=(13, 5))\n",
        "    fig.set_facecolor('white')\n",
        "\n",
        "    epochs = np.arange(len(curves[\"val_loss\"])) + 1\n",
        "\n",
        "    ax[0].plot(epochs, curves['val_loss'], label='validation')\n",
        "    ax[0].plot(epochs, curves['train_loss'], label='training')\n",
        "    ax[0].set_xlabel('Epoch')\n",
        "    ax[0].set_ylabel('Loss')\n",
        "    ax[0].set_title('Loss evolution during training')\n",
        "    ax[0].legend()\n",
        "\n",
        "    ax[1].plot(epochs, curves['val_acc'], label='validation')\n",
        "    ax[1].plot(epochs, curves['train_acc'], label='training')\n",
        "    ax[1].set_xlabel('Epoch')\n",
        "    ax[1].set_ylabel('Accuracy')\n",
        "    ax[1].set_title('Accuracy evolution during training')\n",
        "    ax[1].legend()\n",
        "\n",
        "    plt.show()"
      ],
      "metadata": {
        "id": "GCN3I4gvMEnj"
      },
      "execution_count": 45,
      "outputs": []
    },
    {
      "cell_type": "code",
      "source": [
        "def train_step(x_batch, y_batch, model, optimizer, criterion, use_gpu):\n",
        "    #Modelo entrenado con x_batch señales, el cual debería entregar una predicción de 800 números \n",
        "    #y a esa predicción hecha por el modela la llamamos \"y_predicted\"\n",
        "    y_predicted = model(x_batch) #modelo entrega arreglo de 800 números con valores del 0 al 1\n",
        "\n",
        "    #Loss es el criteio a utilizar para calcular la diferencia entre el \"y_predicted\"  y el \"y_batch\", para saber cuanto nos estamos equivocando\n",
        "    loss = criterion(y_predicted, y_batch) \n",
        "\n",
        "    # Actualización de parámetros\n",
        "    optimizer.zero_grad() \n",
        "    loss.backward() #el error debido a loss se propaga hacia atras\n",
        "    optimizer.step()\n",
        "\n",
        "    return y_predicted, loss #train_step entrena la red con señales de tamaño x_batch, luego calcula el loss para finalmente propagar el error hacia atras\n",
        "\n",
        "\n",
        "###PARA VALIDACION####\n",
        "def evaluate(val_loader, model, criterion, use_gpu):\n",
        "    cumulative_loss = 0 #Los que iremos acumulando a medida que recorremos las señales y hacemos una predicción\n",
        "    cumulative_predictions = 0\n",
        "    data_count = 1808*800   #0\n",
        "    data_count1=0\n",
        "    for x_val, y_val in val_loader:  #toma una señal de x_val y su Clase de y_val y lo hace para todo el dataset val_loader\n",
        "        if use_gpu:\n",
        "            x_val = x_val.cuda()\n",
        "            y_val = y_val.cuda()\n",
        "\n",
        "        y_predicted = model(x_val) #Hace una predicción para x_val con el modelo de redes neuronales. \n",
        "        \n",
        "        loss = criterion(y_predicted, y_val) #Se calcula un loss para ver en cuanto difiere la predicción de la red con el valor real que deberia dar\n",
        "\n",
        "        class_prediction = (y_predicted >= 0.5).long() #Esto trasnforma a 0 o 1 el arreglo de 800 elementos que tenemos\n",
        "        \n",
        "        cumulative_predictions += (y_val == class_prediction).sum().item() #SUMA CASOS CORRECTAMENTE PREDICHOS\n",
        "        cumulative_loss += loss.item() #LOSS POR CADA SALIDA DE LA RED\n",
        "        #data_count =1808*800   #CONTAMOS EL TOTAL DE CASOS#y_val.shape[1] #Cambiamos eso\n",
        "        data_count1 +=1\n",
        "        \n",
        "    val_acc = cumulative_predictions / data_count\n",
        "    val_loss = cumulative_loss / data_count1 ################\n",
        "\n",
        "    return val_acc, val_loss\n",
        "\n",
        "\n",
        "def train_model(\n",
        "    model,\n",
        "    train_dataset,\n",
        "    val_dataset,\n",
        "    epochs,\n",
        "    criterion,\n",
        "    batch_size,\n",
        "    lr,\n",
        "    n_evaluations_per_epoch=6,\n",
        "    use_gpu=False,\n",
        "    data_augmentation=False,\n",
        "):\n",
        "\n",
        "\n",
        "    if use_gpu:\n",
        "        model.cuda()\n",
        "\n",
        "    # Definición de dataloader\n",
        "    train_loader = torch.utils.data.DataLoader(train_dataset, batch_size=batch_size, shuffle=True, pin_memory=use_gpu)\n",
        "    val_loader = torch.utils.data.DataLoader(val_dataset, batch_size=len(val_dataset), shuffle=False, pin_memory=use_gpu) #batch size es de tamaño 1808\n",
        "\n",
        "    # Optimizador\n",
        "    optimizer = torch.optim.Adam(model.parameters(), lr=lr)\n",
        "\n",
        "    # Listas para guardar curvas de entrenamiento\n",
        "    curves = {\n",
        "        \"train_acc\": [],\n",
        "        \"val_acc\": [],\n",
        "        \"train_loss\": [],\n",
        "        \"val_loss\": [],\n",
        "    }\n",
        "\n",
        "    t0 = time.perf_counter()\n",
        "\n",
        "    iteration = 0\n",
        "\n",
        "    n_batches = len(train_loader) #deberia ser 4463 \n",
        "\n",
        "    for epoch in range(epochs): #si epochs es 4, entonces toma valores del 0 al 3 (creo)\n",
        "        print(f\"\\rEpoch {epoch + 1}/{epochs}\")\n",
        "        cumulative_train_loss = 0\n",
        "        cumulative_train_corrects = 0\n",
        "        train_loss_count = 0\n",
        "        train_acc_count = 0\n",
        "###########################\n",
        "        # Entrenamiento del modelo\n",
        "        model.train()\n",
        "        for i, (x_batch, y_batch) in enumerate(train_loader):\n",
        "            if use_gpu:\n",
        "                x_batch = x_batch.cuda()\n",
        "                y_batch = y_batch.cuda()\n",
        "\n",
        "            y_predicted, loss = train_step(x_batch, y_batch, model, optimizer, criterion, use_gpu) #Entrega el y predicted y el loss para una epoca\n",
        "\n",
        "            cumulative_train_loss += loss.item() #Se acumula loss a medida que pasamos por los x_batch\n",
        "            train_loss_count += 1   #800\n",
        "            train_acc_count =4463*800   #Antes tenia y_batch.shape[0] #Puse eso pq es el total de casos de 0 y 1 de todo el dataset\n",
        "\n",
        "            # Calculamos número de aciertos\n",
        "            class_prediction = (y_predicted >= 0.5).long()\n",
        "            cumulative_train_corrects += (y_batch == class_prediction).sum().item()\n",
        "\n",
        "            if (i % (n_batches // n_evaluations_per_epoch) == 0) and (i > 0):\n",
        "                train_loss = cumulative_train_loss / train_loss_count\n",
        "                train_acc = cumulative_train_corrects / train_acc_count\n",
        "\n",
        "                print(f\"Iteration {iteration} - Batch {i}/{len(train_loader)} - Train loss: {train_loss}, Train acc: {train_acc}\")\n",
        "\n",
        "            iteration += 1\n",
        "\n",
        "        model.eval()\n",
        "        with torch.no_grad():\n",
        "            val_acc, val_loss = evaluate(val_loader, model, criterion, use_gpu)\n",
        "\n",
        "        print(f\"Val loss: {val_loss}, Val acc: {val_acc}\")\n",
        "\n",
        "        train_loss = cumulative_train_loss / train_loss_count\n",
        "        train_acc = cumulative_train_corrects / train_acc_count\n",
        "\n",
        "        curves[\"train_acc\"].append(train_acc)\n",
        "        curves[\"val_acc\"].append(val_acc)\n",
        "        curves[\"train_loss\"].append(train_loss)\n",
        "        curves[\"val_loss\"].append(val_loss)\n",
        "\n",
        "    print()\n",
        "    print(f\"Tiempo total de entrenamiento: {time.perf_counter() - t0:.4f} [s]\")\n",
        "\n",
        "    model.cpu()\n",
        "\n",
        "\n",
        "\n",
        "    return curves"
      ],
      "metadata": {
        "id": "k2CZRO_OzzwG"
      },
      "execution_count": 46,
      "outputs": []
    },
    {
      "cell_type": "code",
      "source": [
        "lr = 5e-4\n",
        "dropout_p = 0.5\n",
        "batch_size = 64\n",
        "criterion = nn.L1Loss(reduction='sum')\n",
        "\n",
        "epochs = 20\n",
        "model = CNNModel(dropout_p=0.5)\n",
        "\n",
        "curves = train_model(\n",
        "    model,\n",
        "    train_dataset,\n",
        "    val_dataset,\n",
        "    epochs,\n",
        "    criterion,\n",
        "    batch_size,\n",
        "    lr,\n",
        "    use_gpu=False\n",
        ")\n",
        "\n",
        "show_curves(curves)"
      ],
      "metadata": {
        "colab": {
          "base_uri": "https://localhost:8080/",
          "height": 1000
        },
        "id": "Nl2_ggxFz7Ew",
        "outputId": "f4fccbfa-3a5e-49ba-cde5-366dc30b1923"
      },
      "execution_count": 47,
      "outputs": [
        {
          "output_type": "stream",
          "name": "stdout",
          "text": [
            "\rEpoch 1/20\n",
            "Iteration 11 - Batch 11/70 - Train loss: 20737.794677734375, Train acc: 0.11058900963477482\n",
            "Iteration 22 - Batch 22/70 - Train loss: 16581.971509850544, Train acc: 0.23252688774367017\n",
            "Iteration 33 - Batch 33/70 - Train loss: 14777.612735523897, Train acc: 0.3564261707371723\n",
            "Iteration 44 - Batch 44/70 - Train loss: 13863.062131076389, Train acc: 0.48016020613936816\n",
            "Iteration 55 - Batch 55/70 - Train loss: 13308.631574358258, Train acc: 0.6038827582343715\n",
            "Iteration 66 - Batch 66/70 - Train loss: 12904.976679104477, Train acc: 0.7281990813354245\n",
            "Val loss: 315688.71875, Val acc: 0.7817809734513275\n",
            "Epoch 2/20\n",
            "Iteration 81 - Batch 11/70 - Train loss: 11032.515950520834, Train acc: 0.13500588169392785\n",
            "Iteration 92 - Batch 22/70 - Train loss: 10925.288765285326, Train acc: 0.25944207931884383\n",
            "Iteration 103 - Batch 33/70 - Train loss: 10904.165383731617, Train acc: 0.3837275935469415\n",
            "Iteration 114 - Batch 44/70 - Train loss: 10904.531293402777, Train acc: 0.5078674658301591\n",
            "Iteration 125 - Batch 55/70 - Train loss: 10897.398420061383, Train acc: 0.6321291732018821\n",
            "Iteration 136 - Batch 66/70 - Train loss: 10914.259984258395, Train acc: 0.7559861640152364\n",
            "Val loss: 316295.1875, Val acc: 0.7813384955752213\n",
            "Epoch 3/20\n",
            "Iteration 151 - Batch 11/70 - Train loss: 11018.555582682291, Train acc: 0.13504677347075958\n",
            "Iteration 162 - Batch 22/70 - Train loss: 10978.470151154892, Train acc: 0.25910654268429306\n",
            "Iteration 173 - Batch 33/70 - Train loss: 10926.715475643383, Train acc: 0.3835166928075286\n",
            "Iteration 184 - Batch 44/70 - Train loss: 10902.545703125, Train acc: 0.5079187205915303\n",
            "Iteration 195 - Batch 55/70 - Train loss: 10868.587105887276, Train acc: 0.6326257562177907\n",
            "Iteration 206 - Batch 66/70 - Train loss: 10870.869446711753, Train acc: 0.7568434909253865\n",
            "Val loss: 313609.625, Val acc: 0.7831768528761062\n",
            "Epoch 4/20\n",
            "Iteration 221 - Batch 11/70 - Train loss: 10675.046956380209, Train acc: 0.13621639032041227\n",
            "Iteration 232 - Batch 22/70 - Train loss: 10712.379585597826, Train acc: 0.2608508850548958\n",
            "Iteration 243 - Batch 33/70 - Train loss: 10730.652200137867, Train acc: 0.38544728881917995\n",
            "Iteration 254 - Batch 44/70 - Train loss: 10734.947960069445, Train acc: 0.5101005489581\n",
            "Iteration 265 - Batch 55/70 - Train loss: 10698.476231166294, Train acc: 0.6353663455075061\n",
            "Iteration 276 - Batch 66/70 - Train loss: 10688.252361240671, Train acc: 0.7603657853461797\n",
            "Val loss: 303969.0625, Val acc: 0.7901023230088495\n",
            "Epoch 5/20\n",
            "Iteration 291 - Batch 11/70 - Train loss: 10409.522867838541, Train acc: 0.13712749271790275\n",
            "Iteration 302 - Batch 22/70 - Train loss: 10510.054602581522, Train acc: 0.2622005937710061\n",
            "Iteration 313 - Batch 33/70 - Train loss: 10449.855353860294, Train acc: 0.3881915191575174\n",
            "Iteration 324 - Batch 44/70 - Train loss: 10418.403103298611, Train acc: 0.5141838449473448\n",
            "Iteration 335 - Batch 55/70 - Train loss: 10391.789341517857, Train acc: 0.6403114496975129\n",
            "Iteration 346 - Batch 66/70 - Train loss: 10330.370364972016, Train acc: 0.767274535066099\n",
            "Val loss: 289995.875, Val acc: 0.7998720962389381\n",
            "Epoch 6/20\n",
            "Iteration 361 - Batch 11/70 - Train loss: 10091.764078776041, Train acc: 0.13823129061169617\n",
            "Iteration 372 - Batch 22/70 - Train loss: 10037.851307744566, Train acc: 0.2652988460676675\n",
            "Iteration 383 - Batch 33/70 - Train loss: 9973.81209788603, Train acc: 0.39281985211740983\n",
            "Iteration 394 - Batch 44/70 - Train loss: 9956.229210069445, Train acc: 0.5201593658973784\n",
            "Iteration 405 - Batch 55/70 - Train loss: 9921.598911830357, Train acc: 0.6478271342146538\n",
            "Iteration 416 - Batch 66/70 - Train loss: 9873.83396979944, Train acc: 0.775988124579879\n",
            "Val loss: 275154.875, Val acc: 0.8102025719026549\n",
            "Epoch 7/20\n",
            "Iteration 431 - Batch 11/70 - Train loss: 9674.110432942709, Train acc: 0.13964709836432893\n",
            "Iteration 442 - Batch 22/70 - Train loss: 9542.443614130434, Train acc: 0.26850576966166256\n",
            "Iteration 453 - Batch 33/70 - Train loss: 9517.447208180147, Train acc: 0.39716026215550077\n",
            "Iteration 464 - Batch 44/70 - Train loss: 9474.283854166666, Train acc: 0.5262312345955635\n",
            "Iteration 475 - Batch 55/70 - Train loss: 9469.425711495536, Train acc: 0.6549411830607215\n",
            "Iteration 486 - Batch 66/70 - Train loss: 9452.745831389926, Train acc: 0.7839093658973785\n",
            "Val loss: 269502.28125, Val acc: 0.8140002765486726\n",
            "Epoch 8/20\n",
            "Iteration 501 - Batch 11/70 - Train loss: 9247.414510091146, Train acc: 0.14108643289267309\n",
            "Iteration 512 - Batch 22/70 - Train loss: 9218.983801800272, Train acc: 0.2706007730226305\n",
            "Iteration 523 - Batch 33/70 - Train loss: 9152.841954848345, Train acc: 0.40061785794308763\n",
            "Iteration 534 - Batch 44/70 - Train loss: 9075.634342447916, Train acc: 0.5312505601613264\n",
            "Iteration 545 - Batch 55/70 - Train loss: 9111.43159702846, Train acc: 0.6605657629397267\n",
            "Iteration 556 - Batch 66/70 - Train loss: 9113.5107421875, Train acc: 0.7902932444544029\n",
            "Val loss: 264208.5625, Val acc: 0.8177530420353982\n",
            "Epoch 9/20\n",
            "Iteration 571 - Batch 11/70 - Train loss: 8750.261881510416, Train acc: 0.14279408469639257\n",
            "Iteration 582 - Batch 22/70 - Train loss: 8798.852942425272, Train acc: 0.27339485771902305\n",
            "Iteration 593 - Batch 33/70 - Train loss: 8753.153822954962, Train acc: 0.4045815594891329\n",
            "Iteration 604 - Batch 44/70 - Train loss: 8813.12294921875, Train acc: 0.5346882702218239\n",
            "Iteration 615 - Batch 55/70 - Train loss: 8794.33816092355, Train acc: 0.6656601501232355\n",
            "Iteration 626 - Batch 66/70 - Train loss: 8846.615912138526, Train acc: 0.7954150795429084\n",
            "Val loss: 257806.375, Val acc: 0.8222338219026548\n",
            "Epoch 10/20\n",
            "Iteration 641 - Batch 11/70 - Train loss: 8566.3818359375, Train acc: 0.14339513779968632\n",
            "Iteration 652 - Batch 22/70 - Train loss: 8466.352432914402, Train acc: 0.27553803495406676\n",
            "Iteration 663 - Batch 33/70 - Train loss: 8549.999411190258, Train acc: 0.406541003809097\n",
            "Iteration 674 - Batch 44/70 - Train loss: 8604.579991319444, Train acc: 0.5373683620882814\n",
            "Iteration 685 - Batch 55/70 - Train loss: 8527.003888811383, Train acc: 0.6699787138695944\n",
            "Iteration 696 - Batch 66/70 - Train loss: 8528.088546525187, Train acc: 0.8015547277615953\n",
            "Val loss: 251294.671875, Val acc: 0.8267090707964602\n",
            "Epoch 11/20\n",
            "Iteration 711 - Batch 11/70 - Train loss: 8384.730061848959, Train acc: 0.1440768541339906\n",
            "Iteration 722 - Batch 22/70 - Train loss: 8299.823942764946, Train acc: 0.27670625140040334\n",
            "Iteration 733 - Batch 33/70 - Train loss: 8253.702363855698, Train acc: 0.40947568899843156\n",
            "Iteration 744 - Batch 44/70 - Train loss: 8181.0678927951385, Train acc: 0.5428543020389872\n",
            "Iteration 755 - Batch 55/70 - Train loss: 8161.38427734375, Train acc: 0.6758273582791844\n",
            "Iteration 766 - Batch 66/70 - Train loss: 8181.239359841418, Train acc: 0.808214205691239\n",
            "Val loss: 241848.96875, Val acc: 0.8334112278761062\n",
            "Epoch 12/20\n",
            "Iteration 781 - Batch 11/70 - Train loss: 7820.6595458984375, Train acc: 0.14600352901635671\n",
            "Iteration 792 - Batch 22/70 - Train loss: 7899.033733865489, Train acc: 0.2793292068115617\n",
            "Iteration 803 - Batch 33/70 - Train loss: 7810.081341911765, Train acc: 0.41375952274254985\n",
            "Iteration 814 - Batch 44/70 - Train loss: 7732.490028211805, Train acc: 0.5486519717678692\n",
            "Iteration 825 - Batch 55/70 - Train loss: 7672.246677943638, Train acc: 0.6837256329822989\n",
            "Iteration 836 - Batch 66/70 - Train loss: 7652.489942863806, Train acc: 0.8184010194936142\n",
            "Val loss: 224237.625, Val acc: 0.84578125\n",
            "Epoch 13/20\n",
            "Iteration 851 - Batch 11/70 - Train loss: 7073.2349039713545, Train acc: 0.14854161998655613\n",
            "Iteration 862 - Batch 22/70 - Train loss: 7089.088739809783, Train acc: 0.28455775263275823\n",
            "Iteration 873 - Batch 33/70 - Train loss: 7142.645493451287, Train acc: 0.4201061505713646\n",
            "Iteration 884 - Batch 44/70 - Train loss: 7152.764225260416, Train acc: 0.5558878557024423\n",
            "Iteration 895 - Batch 55/70 - Train loss: 7096.960920061384, Train acc: 0.6927016580775264\n",
            "Iteration 906 - Batch 66/70 - Train loss: 7076.851489622201, Train acc: 0.8291387519605646\n",
            "Val loss: 205118.90625, Val acc: 0.8591572179203539\n",
            "Epoch 14/20\n",
            "Iteration 921 - Batch 11/70 - Train loss: 6605.83056640625, Train acc: 0.15007310105310329\n",
            "Iteration 932 - Batch 22/70 - Train loss: 6621.821480129076, Train acc: 0.28750868250056016\n",
            "Iteration 943 - Batch 33/70 - Train loss: 6629.224063648897, Train acc: 0.42498627604750167\n",
            "Iteration 954 - Batch 44/70 - Train loss: 6598.969270833333, Train acc: 0.5628781088953618\n",
            "Iteration 965 - Batch 55/70 - Train loss: 6523.381216866629, Train acc: 0.7016482747031145\n",
            "Iteration 976 - Batch 66/70 - Train loss: 6475.3479914878735, Train acc: 0.8403142505041452\n",
            "Val loss: 193009.625, Val acc: 0.8671667588495575\n",
            "Epoch 15/20\n",
            "Iteration 991 - Batch 11/70 - Train loss: 5901.1308186848955, Train acc: 0.15238292628276945\n",
            "Iteration 1002 - Batch 22/70 - Train loss: 6006.925399116848, Train acc: 0.29140320412278736\n",
            "Iteration 1013 - Batch 33/70 - Train loss: 6036.176283892463, Train acc: 0.4305058256777952\n",
            "Iteration 1024 - Batch 44/70 - Train loss: 6053.448513454861, Train acc: 0.5695630741653597\n",
            "Iteration 1035 - Batch 55/70 - Train loss: 6094.798470633371, Train acc: 0.7081030136679364\n",
            "Iteration 1046 - Batch 66/70 - Train loss: 6101.073774195429, Train acc: 0.8470795989244903\n",
            "Val loss: 176650.546875, Val acc: 0.8786068860619469\n",
            "Epoch 16/20\n",
            "Iteration 1061 - Batch 11/70 - Train loss: 5685.9252522786455, Train acc: 0.1531321420569124\n",
            "Iteration 1072 - Batch 22/70 - Train loss: 5792.596085258152, Train acc: 0.2927854021958324\n",
            "Iteration 1083 - Batch 33/70 - Train loss: 5653.635153377757, Train acc: 0.43416171857494956\n",
            "Iteration 1094 - Batch 44/70 - Train loss: 5674.7441189236115, Train acc: 0.5743283665695721\n",
            "Iteration 1105 - Batch 55/70 - Train loss: 5701.387747628348, Train acc: 0.7143157629397267\n",
            "Iteration 1116 - Batch 66/70 - Train loss: 5692.830238456157, Train acc: 0.854734483531257\n",
            "Val loss: 168222.90625, Val acc: 0.8842837389380531\n",
            "Epoch 17/20\n",
            "Iteration 1131 - Batch 11/70 - Train loss: 5556.1365966796875, Train acc: 0.15352089401747704\n",
            "Iteration 1142 - Batch 22/70 - Train loss: 5464.555345618207, Train acc: 0.29479358055119875\n",
            "Iteration 1153 - Batch 33/70 - Train loss: 5445.793098000919, Train acc: 0.43598224288595117\n",
            "Iteration 1164 - Batch 44/70 - Train loss: 5407.312510850695, Train acc: 0.577530248711629\n",
            "Iteration 1175 - Batch 55/70 - Train loss: 5411.037039620535, Train acc: 0.7186514116065427\n",
            "Iteration 1186 - Batch 66/70 - Train loss: 5409.592358034049, Train acc: 0.8598224288595115\n",
            "Val loss: 162787.0625, Val acc: 0.887932107300885\n",
            "Epoch 18/20\n",
            "Iteration 1201 - Batch 11/70 - Train loss: 5236.0605061848955, Train acc: 0.15461264844275152\n",
            "Iteration 1212 - Batch 22/70 - Train loss: 5222.213336447011, Train acc: 0.29641384718799013\n",
            "Iteration 1223 - Batch 33/70 - Train loss: 5179.537439682905, Train acc: 0.43861136007170065\n",
            "Iteration 1234 - Batch 44/70 - Train loss: 5175.877658420139, Train acc: 0.5805436365673314\n",
            "Iteration 1245 - Batch 55/70 - Train loss: 5171.519191196987, Train acc: 0.7225019605646427\n",
            "Iteration 1256 - Batch 66/70 - Train loss: 5137.65576900653, Train acc: 0.8650369706475465\n",
            "Val loss: 157613.3125, Val acc: 0.8914954369469027\n",
            "Epoch 19/20\n",
            "Iteration 1271 - Batch 11/70 - Train loss: 5025.4471435546875, Train acc: 0.15528904324445442\n",
            "Iteration 1282 - Batch 22/70 - Train loss: 4947.493248980978, Train acc: 0.2981265404436478\n",
            "Iteration 1293 - Batch 33/70 - Train loss: 4931.98091394761, Train acc: 0.4408399619090298\n",
            "Iteration 1304 - Batch 44/70 - Train loss: 4939.5867296006945, Train acc: 0.5833676898946897\n",
            "Iteration 1315 - Batch 55/70 - Train loss: 4929.980433872768, Train acc: 0.7261180820076182\n",
            "Iteration 1326 - Batch 66/70 - Train loss: 4942.718924906716, Train acc: 0.8684984875644185\n",
            "Val loss: 153656.390625, Val acc: 0.8941551438053097\n",
            "Epoch 20/20\n",
            "Iteration 1341 - Batch 11/70 - Train loss: 4825.0947265625, Train acc: 0.15595311449697513\n",
            "Iteration 1352 - Batch 22/70 - Train loss: 4786.715905230978, Train acc: 0.29914883486444094\n",
            "Iteration 1363 - Batch 33/70 - Train loss: 4802.32479319853, Train acc: 0.44207259690790945\n",
            "Iteration 1374 - Batch 44/70 - Train loss: 4796.601334635417, Train acc: 0.5851534842034506\n",
            "Iteration 1385 - Batch 55/70 - Train loss: 4808.885942731585, Train acc: 0.7280052655164687\n",
            "Iteration 1396 - Batch 66/70 - Train loss: 4767.203686159049, Train acc: 0.8717838337441183\n",
            "Val loss: 149219.671875, Val acc: 0.8972517975663716\n",
            "\n",
            "Tiempo total de entrenamiento: 62.5113 [s]\n"
          ]
        },
        {
          "output_type": "display_data",
          "data": {
            "text/plain": [
              "<Figure size 936x360 with 2 Axes>"
            ],
            "image/png": "[encoded data removed]"
          },
          "metadata": {}
        }
      ]
    }
  ],
  "metadata": {
    "colab": {
      "collapsed_sections": [],
      "provenance": [],
      "include_colab_link": true
    },
    "kernelspec": {
      "display_name": "Python 3",
      "name": "python3"
    },
    "language_info": {
      "name": "python"
    },
    "accelerator": "GPU"
  },
  "nbformat": 4,
  "nbformat_minor": 0
}